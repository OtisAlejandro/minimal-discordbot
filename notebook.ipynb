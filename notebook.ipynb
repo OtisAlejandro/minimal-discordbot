{
 "cells": [
  {
   "cell_type": "code",
   "execution_count": null,
   "metadata": {},
   "outputs": [],
   "source": [
    "import langchain\n",
    "from llmstudio import LMStudio\n",
    "\n",
    "llm = LMStudio(endpoint=\"http://localhost:1234\")"
   ]
  },
  {
   "cell_type": "code",
   "execution_count": null,
   "metadata": {},
   "outputs": [],
   "source": [
    "llm(\"Question: What is the sum of 2 and 2?\\nAnswer:\")"
   ]
  }
 ],
 "metadata": {
  "language_info": {
   "name": "python"
  },
  "orig_nbformat": 4
 },
 "nbformat": 4,
 "nbformat_minor": 2
}
